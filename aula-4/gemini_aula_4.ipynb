{
  "nbformat": 4,
  "nbformat_minor": 0,
  "metadata": {
    "colab": {
      "provenance": [],
      "authorship_tag": "ABX9TyNbX0iBx1nyBu720+xqP7HE",
      "include_colab_link": true
    },
    "kernelspec": {
      "name": "python3",
      "display_name": "Python 3"
    },
    "language_info": {
      "name": "python"
    }
  },
  "cells": [
    {
      "cell_type": "markdown",
      "metadata": {
        "id": "view-in-github",
        "colab_type": "text"
      },
      "source": [
        "<a href=\"https://colab.research.google.com/github/PecoCaballero/imersao-ia/blob/main/gemini_aula_4.ipynb\" target=\"_parent\"><img src=\"https://colab.research.google.com/assets/colab-badge.svg\" alt=\"Open In Colab\"/></a>"
      ]
    },
    {
      "cell_type": "markdown",
      "source": [
        "Instalando o SDK do Google"
      ],
      "metadata": {
        "id": "Rmk4_dTxLSet"
      }
    },
    {
      "cell_type": "code",
      "execution_count": 1,
      "metadata": {
        "id": "wqTi4byFLMdN"
      },
      "outputs": [],
      "source": [
        "!pip install -q -U google-generativeai"
      ]
    },
    {
      "cell_type": "markdown",
      "source": [
        "Importa API Key e configura no SDK do google"
      ],
      "metadata": {
        "id": "seDcV4S3Lk0R"
      }
    },
    {
      "cell_type": "code",
      "source": [
        "# Import the Python SDK\n",
        "import google.generativeai as genai\n",
        "# Used to securely store your API key\n",
        "from google.colab import userdata\n",
        "\n",
        "GOOGLE_API_KEY=userdata.get('GENAI_API_KEY')\n",
        "genai.configure(api_key=GOOGLE_API_KEY)"
      ],
      "metadata": {
        "id": "-bbTbDKhLj99"
      },
      "execution_count": 2,
      "outputs": []
    },
    {
      "cell_type": "markdown",
      "source": [
        "Listar os modelos disponíveis"
      ],
      "metadata": {
        "id": "4qdtny4TLv1b"
      }
    },
    {
      "cell_type": "code",
      "source": [
        "for m in genai.list_models():\n",
        "  if 'generateContent' in m.supported_generation_methods:\n",
        "    print(m.name)"
      ],
      "metadata": {
        "colab": {
          "base_uri": "https://localhost:8080/",
          "height": 139
        },
        "id": "mw91l6GwLvqK",
        "outputId": "0a790c77-e93b-4078-e1ee-4e4c57d2fc92"
      },
      "execution_count": 4,
      "outputs": [
        {
          "output_type": "stream",
          "name": "stdout",
          "text": [
            "models/gemini-1.0-pro\n",
            "models/gemini-1.0-pro-001\n",
            "models/gemini-1.0-pro-latest\n",
            "models/gemini-1.0-pro-vision-latest\n",
            "models/gemini-1.5-pro-latest\n",
            "models/gemini-pro\n",
            "models/gemini-pro-vision\n"
          ]
        }
      ]
    },
    {
      "cell_type": "code",
      "source": [
        "generation_config = {\n",
        "    \"candidate_count\": 1,\n",
        "    \"temperature\": 0.5,\n",
        "\n",
        "}"
      ],
      "metadata": {
        "id": "3VmP8D02VplJ"
      },
      "execution_count": 5,
      "outputs": []
    },
    {
      "cell_type": "code",
      "source": [
        "safety_settings = {\n",
        "    \"HARASSMENT\": \"BLOCK_NONE\",\n",
        "    \"HATE\": \"BLOCK_NONE\",\n",
        "    \"SEXUAL\": \"BLOCK_NONE\",\n",
        "    \"DANGEROUS\": \"BLOCK_NONE\",\n",
        "}"
      ],
      "metadata": {
        "id": "bpqqlBpAWT9O"
      },
      "execution_count": 6,
      "outputs": []
    },
    {
      "cell_type": "markdown",
      "source": [
        "Inicializando o modelo"
      ],
      "metadata": {
        "id": "vTrm1DrVXPnH"
      }
    },
    {
      "cell_type": "code",
      "source": [
        "model = genai.GenerativeModel(model_name=\"gemini-1.0-pro\",\n",
        "                              generation_config=generation_config,\n",
        "                              safety_settings=safety_settings,\n",
        "                              )"
      ],
      "metadata": {
        "id": "m5LsIBqmXSRt"
      },
      "execution_count": 7,
      "outputs": []
    },
    {
      "cell_type": "code",
      "source": [
        "response = model.generate_content(\"Vamos aprender conteudo sobre IA. Me de sugestões\")\n",
        "print(response.text)"
      ],
      "metadata": {
        "colab": {
          "base_uri": "https://localhost:8080/",
          "height": 749
        },
        "id": "kyQAoKfOYOey",
        "outputId": "0f0595a7-6abb-429d-ee79-20a3e1f7e4fd"
      },
      "execution_count": 8,
      "outputs": [
        {
          "output_type": "stream",
          "name": "stdout",
          "text": [
            "**Conceitos Fundamentais**\n",
            "\n",
            "* Definição e história da Inteligência Artificial (IA)\n",
            "* Tipos de IA: Aprendizado de Máquina, Aprendizado Profundo, Processamento de Linguagem Natural\n",
            "* Algoritmos de IA comuns: Regressão, Classificação, Agrupamento\n",
            "* Ética e Implicações Sociais da IA\n",
            "\n",
            "**Aprendizado de Máquina**\n",
            "\n",
            "* Conceitos básicos: Dados, Modelos, Treinamento\n",
            "* Tipos de Aprendizado de Máquina: Supervisionado, Não Supervisionado, Reforço\n",
            "* Algoritmos de Aprendizado de Máquina: Árvore de Decisão, Regressão Linear, K-Means\n",
            "* Avaliação de Modelos de Aprendizado de Máquina: Métricas, Validação Cruzada\n",
            "\n",
            "**Aprendizado Profundo**\n",
            "\n",
            "* Introdução às Redes Neurais\n",
            "* Arquiteturas de Redes Neurais: Convolucional, Recorrente, Autocodificador\n",
            "* Treinamento de Redes Neurais: Retropropagação, Otimização de Gradiente\n",
            "* Aplicações de Aprendizado Profundo: Visão Computacional, Processamento de Linguagem Natural\n",
            "\n",
            "**Processamento de Linguagem Natural**\n",
            "\n",
            "* Conceitos Básicos: Tokenização, Stemming, Lematização\n",
            "* Modelos de Linguagem: N-Gramas, Modelos de Markov\n",
            "* Análise de Sentimento e Extração de Informações\n",
            "* Aplicações de Processamento de Linguagem Natural: Chatbots, Tradução Automática\n",
            "\n",
            "**Aplicações da IA**\n",
            "\n",
            "* IA na Saúde: Diagnóstico, Tratamento, Descoberta de Medicamentos\n",
            "* IA em Finanças: Detecção de Fraude, Gestão de Risco, Negociação Automática\n",
            "* IA em Transporte: Veículos Autônomos, Otimização de Rotas, Gerenciamento de Tráfego\n",
            "* IA em Varejo: Recomendações Personalizadas, Análise de Mercado, Gerenciamento de Estoque\n",
            "\n",
            "**Recursos Adicionais**\n",
            "\n",
            "* **Cursos Online:** Coursera, edX, Udemy\n",
            "* **Livros:** \"Inteligência Artificial: Uma Abordagem Moderna\" por Stuart Russell e Peter Norvig, \"Aprendizado de Máquina\" por Tom Mitchell\n",
            "* **Conferências e Eventos:** NeurIPS, ICML, CVPR\n",
            "* **Comunidades Online:** Reddit r/MachineLearning, Stack Overflow\n"
          ]
        }
      ]
    },
    {
      "cell_type": "code",
      "source": [
        "chat = model.start_chat(history=[])"
      ],
      "metadata": {
        "id": "Sg9Kvw2LYjCG"
      },
      "execution_count": 9,
      "outputs": []
    },
    {
      "cell_type": "code",
      "source": [
        "prompt = input(\"Aguardando prompt: \")\n",
        "\n",
        "while prompt != \"fim\":\n",
        "  response = chat.send_message(prompt)\n",
        "  print(\"resposta: \", response.text, \"\\n\")\n",
        "  prompt = input(\"Aguardando prompt: \")"
      ],
      "metadata": {
        "colab": {
          "base_uri": "https://localhost:8080/",
          "height": 243
        },
        "id": "HffcLrTXmxV3",
        "outputId": "2bb51445-24b9-4fa3-a710-63869d5352f5"
      },
      "execution_count": 10,
      "outputs": [
        {
          "name": "stdout",
          "output_type": "stream",
          "text": [
            "Aguardando prompt: QUal é a capital do japão\n",
            "resposta:  Tóquio \n",
            "\n",
            "Aguardando prompt: Qual é a comida típica desse pais?\n",
            "resposta:  Sushi \n",
            "\n",
            "Aguardando prompt: Meu primo nasceu nessa cidade, qual a nacionalidade dele?\n",
            "resposta:  Japonês \n",
            "\n",
            "Aguardando prompt: E qual a população dessa cidade?\n",
            "resposta:  37.339.804 (2023) \n",
            "\n",
            "Aguardando prompt: fim\n"
          ]
        }
      ]
    },
    {
      "cell_type": "code",
      "source": [
        "#Melhorando a visualização\n",
        "#Código disponível em https://ai.google.dev/tutorials/python_quickstart#import_packages\n",
        "import textwrap\n",
        "from IPython.display import display\n",
        "from IPython.display import Markdown\n",
        "\n",
        "def to_markdown(text):\n",
        "  text = text.replace('•', '  *')\n",
        "  return Markdown(textwrap.indent(text, '> ', predicate=lambda _: True))\n",
        "\n",
        "#Imprimindo o histórico\n",
        "for message in chat.history:\n",
        "  display(to_markdown(f'**{message.role}**: {message.parts[0].text}'))\n",
        "  print('-------------------------------------------')"
      ],
      "metadata": {
        "id": "_n4W2Ns_o1D5"
      },
      "execution_count": null,
      "outputs": []
    }
  ]
}